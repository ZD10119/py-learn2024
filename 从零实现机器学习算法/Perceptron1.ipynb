{
 "cells": [
  {
   "cell_type": "code",
   "execution_count": 1,
   "id": "c056100c333dd9a5",
   "metadata": {
    "collapsed": false,
    "ExecuteTime": {
     "end_time": "2024-04-22T01:16:31.040426Z",
     "start_time": "2024-04-22T01:16:31.036436Z"
    }
   },
   "outputs": [],
   "source": [
    "# Importing libraries\n",
    "# NAND Gate\n",
    "# Note: x0 is a dummy variable for the bias term\n",
    "#     x0  x1  x2\n",
    "x = [[1., 0., 0.],\n",
    "     [1., 0., 1.],\n",
    "     [1., 1., 0.],\n",
    "     [1., 1., 1.]]\n",
    "\n",
    "y =[1.,\n",
    "    1.,\n",
    "    1.,\n",
    "    0.]"
   ]
  },
  {
   "cell_type": "code",
   "outputs": [],
   "source": [
    "# 1. 初始化权重\n",
    "# Initialize the weights\n",
    "import numpy as np\n",
    "w = np.zeros(len(x[0]))"
   ],
   "metadata": {
    "collapsed": false
   },
   "id": "6485d0328ee97206",
   "execution_count": 2
  },
  {
   "cell_type": "code",
   "outputs": [
    {
     "name": "stdout",
     "output_type": "stream",
     "text": [
      "0.0\n"
     ]
    }
   ],
   "source": [
    "# 2. 将权重和输入相乘并对其求和\n",
    "# Dot Product\n",
    "f = np.dot(w, x[0])\n",
    "print('f =',f)"
   ],
   "metadata": {
    "collapsed": false,
    "ExecuteTime": {
     "end_time": "2024-04-22T01:16:36.815096Z",
     "start_time": "2024-04-22T01:16:36.812375Z"
    }
   },
   "id": "c03d4c474fae8ba",
   "execution_count": 3
  },
  {
   "cell_type": "code",
   "outputs": [
    {
     "name": "stdout",
     "output_type": "stream",
     "text": [
      "0.0\n"
     ]
    }
   ],
   "source": [
    "# 3. 与阈值相比较\n",
    "# Activation Function\n",
    "z = 0.0\n",
    "if f > z:\n",
    "    yhat = 1.\n",
    "else:\n",
    "    yhat = 0.\n",
    "\n",
    "print('yhat =',yhat)"
   ],
   "metadata": {
    "collapsed": false,
    "ExecuteTime": {
     "end_time": "2024-04-22T01:16:39.063178Z",
     "start_time": "2024-04-22T01:16:39.060189Z"
    }
   },
   "id": "94da8b0749b34ac1",
   "execution_count": 4
  },
  {
   "cell_type": "code",
   "outputs": [
    {
     "name": "stdout",
     "output_type": "stream",
     "text": [
      "w = [0.1 0.  0. ]\n"
     ]
    }
   ],
   "source": [
    "# 4. 更新权重\n",
    "# Update the weights\n",
    "eta = 0.1\n",
    "w[0] = w[0] + eta*(y[0] - yhat)*x[0][0]\n",
    "w[1] = w[1] + eta*(y[0] - yhat)*x[0][1]\n",
    "w[2] = w[2] + eta*(y[0] - yhat)*x[0][2]\n",
    "\n",
    "print('w =',w)"
   ],
   "metadata": {
    "collapsed": false,
    "ExecuteTime": {
     "end_time": "2024-04-22T01:26:57.800156Z",
     "start_time": "2024-04-22T01:26:57.796131Z"
    }
   },
   "id": "14d65cd94a6ad384",
   "execution_count": 5
  },
  {
   "cell_type": "code",
   "outputs": [],
   "source": [],
   "metadata": {
    "collapsed": false
   },
   "id": "d10f87ed90625425"
  }
 ],
 "metadata": {
  "kernelspec": {
   "display_name": "Python 3 (ipykernel)",
   "language": "python",
   "name": "python3"
  },
  "language_info": {
   "codemirror_mode": {
    "name": "ipython",
    "version": 3
   },
   "file_extension": ".py",
   "mimetype": "text/x-python",
   "name": "python",
   "nbconvert_exporter": "python",
   "pygments_lexer": "ipython3",
   "version": "3.12.0"
  }
 },
 "nbformat": 4,
 "nbformat_minor": 5
}
